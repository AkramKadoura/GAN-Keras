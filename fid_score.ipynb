{
  "nbformat": 4,
  "nbformat_minor": 0,
  "metadata": {
    "kernelspec": {
      "display_name": "Python 3",
      "language": "python",
      "name": "python3"
    },
    "language_info": {
      "codemirror_mode": {
        "name": "ipython",
        "version": 3
      },
      "file_extension": ".py",
      "mimetype": "text/x-python",
      "name": "python",
      "nbconvert_exporter": "python",
      "pygments_lexer": "ipython3",
      "version": "3.6.8"
    },
    "colab": {
      "name": "fid_score.ipynb",
      "provenance": [],
      "collapsed_sections": [],
      "toc_visible": true,
      "machine_shape": "hm"
    },
    "accelerator": "GPU"
  },
  "cells": [
    {
      "cell_type": "markdown",
      "metadata": {
        "id": "SgDbcphHeeel"
      },
      "source": [
        "##Frechet Inception Distance"
      ]
    },
    {
      "cell_type": "code",
      "metadata": {
        "id": "8UgKU0Aseeel"
      },
      "source": [
        "import tensorflow\n",
        "import os\n",
        "import numpy as np\n",
        "import cv2\n",
        "import random\n",
        "from scipy.linalg import sqrtm\n",
        "from tensorflow.keras.applications.inception_v3 import InceptionV3\n",
        "from tensorflow.keras.applications.inception_v3 import preprocess_input\n",
        "import keras \n",
        "from PIL import Image\n",
        "import imageio\n",
        "from skimage import img_as_ubyte, io\n",
        "from skimage.transform import resize\n",
        "from tensorflow.keras.preprocessing.image import ImageDataGenerator\n",
        "import matplotlib.pyplot as plt\n",
        "from matplotlib.image import imread\n",
        "import random"
      ],
      "execution_count": null,
      "outputs": []
    },
    {
      "cell_type": "code",
      "metadata": {
        "id": "OLq4_nkEf5XK"
      },
      "source": [
        "!unzip '/content/mparticles.zip' -d '/content/'"
      ],
      "execution_count": null,
      "outputs": []
    },
    {
      "cell_type": "code",
      "metadata": {
        "id": "0iiLwOPWg2Q1"
      },
      "source": [
        "!pip install split-folders"
      ],
      "execution_count": null,
      "outputs": []
    },
    {
      "cell_type": "code",
      "metadata": {
        "id": "qvgjX0REg7SV"
      },
      "source": [
        "import splitfolders  # or import split_folders\n",
        "\n",
        "# Split with a ratio.\n",
        "# To only split into training and validation set, set a tuple to `ratio`, i.e, `(.8, .2)`.\n",
        "splitfolders.ratio('/content/mparticles', output='/content/mparticles-split', seed=1337, ratio=(.7, .15, .15), group_prefix=None) # default values"
      ],
      "execution_count": null,
      "outputs": []
    },
    {
      "cell_type": "code",
      "metadata": {
        "id": "y34UUdP2nvUA"
      },
      "source": [
        "g = keras.models.load_model('/content/cgan-particles.h5')"
      ],
      "execution_count": null,
      "outputs": []
    },
    {
      "cell_type": "code",
      "metadata": {
        "id": "q1KBdHIKn0JL"
      },
      "source": [
        "x = np.random.randn(100 * 2500)\n",
        "x = x.reshape(2500, 100)\n",
        "labels = np.asarray([x for _ in range(2500) for x in range(2,3)])\n",
        "\n",
        "images  = g.predict([x,labels]) \n",
        "images = (images+1)/2 * 255"
      ],
      "execution_count": null,
      "outputs": []
    },
    {
      "cell_type": "code",
      "metadata": {
        "id": "HjglX2Mon4Mz"
      },
      "source": [
        "i = 0\n",
        "for image in images:\n",
        "    i += 1\n",
        "    plt.figure(figsize = (8,1))\n",
        "    # plt.imshow(image.reshape(48,48), cmap='gray')\n",
        "    # plt.show()\n",
        "    img_name = f'ss-cgan-{i}.png'\n",
        "    imageio.imwrite('/content/gan-generated/SS/'+img_name, image)\n",
        "  "
      ],
      "execution_count": null,
      "outputs": []
    },
    {
      "cell_type": "code",
      "metadata": {
        "id": "0pkv2Bwleeel"
      },
      "source": [
        "categories = ['CS', 'MC', 'SS']\n",
        "# categories = ['0', '1', '2', '3', '4', '5', '6', '7', '8', '9']\n",
        "data_directory = '/content/mparticles'\n",
        "\n",
        "\n",
        "original_data = []\n",
        "\n",
        "def load_original_data():\n",
        "    for category in categories:\n",
        "        path = os.path.join(data_directory, category)\n",
        "        class_num = categories.index(category)\n",
        "        for img in os.listdir(path):\n",
        "            try:\n",
        "                img_array = cv2.imread(os.path.join(path, img), cv2. IMREAD_GRAYSCALE)\n",
        "                resized_array = cv2.resize(img_array, (48,48))\n",
        "                original_data.append([resized_array, class_num])\n",
        "            except Exception as e:\n",
        "                pass"
      ],
      "execution_count": null,
      "outputs": []
    },
    {
      "cell_type": "code",
      "metadata": {
        "id": "09mEsqhieeel"
      },
      "source": [
        "load_original_data()"
      ],
      "execution_count": null,
      "outputs": []
    },
    {
      "cell_type": "code",
      "metadata": {
        "id": "T1KSfFW_eeel"
      },
      "source": [
        "import random\n",
        "random.shuffle(original_data)\n",
        "\n",
        "x_original = []\n",
        "y_original = []\n",
        "\n",
        "for features,label in original_data: \n",
        "    x_original.append(features)\n",
        "    y_original.append(label)\n",
        "    \n",
        "x_original = np.array(x_original).reshape(-1, 48, 48, 1)\n",
        "y_original = np.array(y_original).reshape(-1)"
      ],
      "execution_count": null,
      "outputs": []
    },
    {
      "cell_type": "code",
      "metadata": {
        "id": "m23rZJGmeeel"
      },
      "source": [
        "original_particles = x_original\n",
        "original_CS = x_original[y_original==0]\n",
        "original_MC = x_original[y_original==1]\n",
        "original_SS = x_original[y_original==2]\n",
        "\n",
        "original_particles.shape"
      ],
      "execution_count": null,
      "outputs": []
    },
    {
      "cell_type": "code",
      "metadata": {
        "id": "UnciaMxGeeem"
      },
      "source": [
        "categories = ['CS', 'MC', 'SS']\n",
        "\n",
        "data_directory = '/content/gan-generated/'\n",
        "# categories = ['0', '1', '2', '3', '4', '5', '6', '7', '8', '9']\n",
        "\n",
        "gan_data = []\n",
        "\n",
        "def load_generated_data():\n",
        "    for category in categories:\n",
        "        path = os.path.join(data_directory, category)\n",
        "        class_num = categories.index(category)\n",
        "        for img in os.listdir(path):\n",
        "            try:\n",
        "                img_array = cv2.imread(os.path.join(path, img), cv2.IMREAD_GRAYSCALE)\n",
        "                resized_array = cv2.resize(img_array, (48,48))\n",
        "                gan_data.append([resized_array, class_num])\n",
        "            except Exception as e:\n",
        "                pass\n",
        "\n",
        "            \n",
        "load_generated_data()\n",
        "print(len(gan_data))"
      ],
      "execution_count": null,
      "outputs": []
    },
    {
      "cell_type": "code",
      "metadata": {
        "id": "A6A4GRQceeem"
      },
      "source": [
        "import random\n",
        "random.shuffle(gan_data)\n",
        "\n",
        "x_gan = []\n",
        "y_gan = []\n",
        "\n",
        "for features,label in gan_data: \n",
        "    x_gan.append(features)\n",
        "    y_gan.append(label)\n",
        "    \n",
        "x_gan = np.array(x_gan).reshape(-1, 48, 48, 1)\n",
        "y_gan = np.array(y_gan).reshape(-1)"
      ],
      "execution_count": null,
      "outputs": []
    },
    {
      "cell_type": "code",
      "metadata": {
        "id": "7d7MQiNHeeen"
      },
      "source": [
        "gan_particles = x_gan\n",
        "gan_CS = x_gan[y_gan==0]\n",
        "gan_MC = x_gan[y_gan==1]\n",
        "gan_SS = x_gan[y_gan==2]"
      ],
      "execution_count": null,
      "outputs": []
    },
    {
      "cell_type": "code",
      "metadata": {
        "id": "5PwRz-oIeeen"
      },
      "source": [
        "img1 = original_particles\n",
        "img2 = gan_particles"
      ],
      "execution_count": null,
      "outputs": []
    },
    {
      "cell_type": "code",
      "metadata": {
        "id": "0eIltw8yqhlP"
      },
      "source": [
        "def image_scaling(images, inception_shape):\n",
        "    images_list = list()\n",
        "    for image in images:\n",
        "        scaled_image = resize(image, inception_shape, 0)\n",
        "        images_list.append(scaled_image)\n",
        "    return np.asarray(images_list)\n",
        "\n",
        "\n",
        "def image_preprocessing(images):\n",
        "    images = images.astype('float32')\n",
        "    images = image_scaling(images, (75,75,3))\n",
        "    images = preprocess_input(images)\n",
        "    return images\n",
        "    \n",
        "\n",
        "def fid_score(images1, images2):\n",
        "            \n",
        "    inception = InceptionV3(include_top= False, pooling='avg', input_shape=(75,75,3))\n",
        "    \n",
        "    preprocessed_images1 = image_preprocessing(images1)\n",
        "    preprocessed_images2 = image_preprocessing(images2)\n",
        "    \n",
        "    features1 = inception.predict(preprocessed_images1)\n",
        "    features2 = inception.predict(preprocessed_images2)\n",
        "    \n",
        "    m1 = features1.mean(axis=0)\n",
        "    m2 = features2.mean(axis=0) \n",
        "    sigma1 = np.cov(features1, rowvar=False)\n",
        "    sigma2 = np.cov(features2, rowvar=False)\n",
        "\n",
        "    convmult = sqrtm(sigma1.dot(sigma2))\n",
        "    \n",
        "    if np.iscomplexobj(convmult):\n",
        "        convmult = convmult.real\n",
        "        \n",
        "    fid = np.sum((m1 - m2)**2.0) + np.trace(sigma1 + sigma2 - 2.0 * convmult)\n",
        "    return fid"
      ],
      "execution_count": null,
      "outputs": []
    },
    {
      "cell_type": "code",
      "metadata": {
        "id": "yi63ULT_eeen"
      },
      "source": [
        "fid_score(img1, img2)"
      ],
      "execution_count": null,
      "outputs": []
    },
    {
      "cell_type": "code",
      "metadata": {
        "id": "2RrK8Cxceeen"
      },
      "source": [
        "#FID-scores\n",
        "\n",
        "#particles-2500\n",
        "#original-cvae: 147.84\n",
        "#original-cgan: 135.62\n",
        "#original-lsgan: 132.58\n",
        "#original-infogan: 125.82\n",
        "\n",
        "#---------------------------------\n",
        "\n",
        "#fashion-2500\n",
        "#original-cvae: 278.10\n",
        "#original-cgan: 77.42     \n",
        "#original-lsgan: 73.18    \n",
        "#original-infogan: 70.77  "
      ],
      "execution_count": null,
      "outputs": []
    }
  ]
}