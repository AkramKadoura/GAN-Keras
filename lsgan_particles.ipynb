{
  "nbformat": 4,
  "nbformat_minor": 0,
  "metadata": {
    "kernelspec": {
      "display_name": "Python 3",
      "language": "python",
      "name": "python3"
    },
    "language_info": {
      "codemirror_mode": {
        "name": "ipython",
        "version": 3
      },
      "file_extension": ".py",
      "mimetype": "text/x-python",
      "name": "python",
      "nbconvert_exporter": "python",
      "pygments_lexer": "ipython3",
      "version": "3.6.8"
    },
    "colab": {
      "name": "lsgan_particles.ipynb",
      "provenance": [],
      "collapsed_sections": []
    },
    "accelerator": "GPU"
  },
  "cells": [
    {
      "cell_type": "code",
      "metadata": {
        "id": "qlb63J_UHUlk"
      },
      "source": [
        "import tensorflow as tf\n",
        "import os\n",
        "import numpy as np\n",
        "import cv2\n",
        "from keras.optimizers import Adam, SGD\n",
        "from keras.models import Model\n",
        "from keras.layers import Input, Dense, Reshape, Flatten, Conv2D,Conv2DTranspose, concatenate\n",
        "from keras.layers import LeakyReLU, Dropout, Embedding, Concatenate, BatchNormalization, ReLU, Activation\n",
        "from keras.utils import plot_model\n",
        "from keras.initializers import RandomNormal\n",
        "from PIL import Image\n",
        "import imageio\n",
        "from skimage import img_as_ubyte, io\n",
        "import matplotlib.pyplot as plt\n",
        "from matplotlib.image import imread\n",
        "%matplotlib inline "
      ],
      "execution_count": 1,
      "outputs": []
    },
    {
      "cell_type": "code",
      "metadata": {
        "id": "dVhUSU3OHUlu",
        "colab": {
          "base_uri": "https://localhost:8080/"
        },
        "outputId": "c1e663df-1ca0-4227-b152-69272ba7f926"
      },
      "source": [
        "!unzip '/content/mparticles.zip' -d '/content/'"
      ],
      "execution_count": 3,
      "outputs": [
        {
          "output_type": "stream",
          "text": [
            "Archive:  /content/mparticles.zip\n",
            "replace /content/__MACOSX/._mparticles? [y]es, [n]o, [A]ll, [N]one, [r]ename: "
          ],
          "name": "stdout"
        }
      ]
    },
    {
      "cell_type": "code",
      "metadata": {
        "colab": {
          "base_uri": "https://localhost:8080/"
        },
        "id": "yHml5PnTGcDK",
        "outputId": "77ea26dc-54d6-493c-ce6f-c3a18a78af28"
      },
      "source": [
        "!pip install split-folders"
      ],
      "execution_count": 2,
      "outputs": [
        {
          "output_type": "stream",
          "text": [
            "Collecting split-folders\n",
            "  Downloading https://files.pythonhosted.org/packages/b8/5f/3c2b2f7ea5e047c8cdc3bb00ae582c5438fcdbbedcc23b3cc1c2c7aae642/split_folders-0.4.3-py3-none-any.whl\n",
            "Installing collected packages: split-folders\n",
            "Successfully installed split-folders-0.4.3\n"
          ],
          "name": "stdout"
        }
      ]
    },
    {
      "cell_type": "code",
      "metadata": {
        "id": "CgZkAtaLIjIm",
        "colab": {
          "base_uri": "https://localhost:8080/"
        },
        "outputId": "80479df5-5222-4d5a-a73d-4c7e57bad524"
      },
      "source": [
        "import splitfolders  # or import split_folders\n",
        "\n",
        "# Split with a ratio.\n",
        "# To only split into training and validation set, set a tuple to `ratio`, i.e, `(.8, .2)`.\n",
        "splitfolders.ratio(\"/content/mparticles\", output=\"/content/mparticles-split\", seed=1337, ratio=(.7, .15, .15), group_prefix=None) # default values\n"
      ],
      "execution_count": 3,
      "outputs": [
        {
          "output_type": "stream",
          "text": [
            "Copying files: 3707 files [00:00, 8374.94 files/s]\n"
          ],
          "name": "stderr"
        }
      ]
    },
    {
      "cell_type": "code",
      "metadata": {
        "id": "6bR5kSf2HUlz"
      },
      "source": [
        "categories = ['CS','MC','SS']\n",
        "data_directory = '/content/mparticles-split/train/'\n",
        "\n",
        "training_data = []\n",
        "\n",
        "def create_training_data():\n",
        "    for category in categories:\n",
        "        path = os.path.join(data_directory, category)\n",
        "        class_num = categories.index(category)\n",
        "        for img in os.listdir(path):\n",
        "            try:\n",
        "                img_array = cv2.imread(os.path.join(path, img), cv2.IMREAD_GRAYSCALE)\n",
        "                resized_array = cv2.resize(img_array, (48,48))\n",
        "                training_data.append([resized_array, class_num])\n",
        "            except Exception as e:\n",
        "                pass"
      ],
      "execution_count": 2,
      "outputs": []
    },
    {
      "cell_type": "code",
      "metadata": {
        "id": "uJ436n_tHUl2",
        "colab": {
          "base_uri": "https://localhost:8080/"
        },
        "outputId": "26e306db-12fc-44ef-d8ff-0b4bfdc6d5cb"
      },
      "source": [
        "create_training_data()\n",
        "print(len(training_data))"
      ],
      "execution_count": 3,
      "outputs": [
        {
          "output_type": "stream",
          "text": [
            "2593\n"
          ],
          "name": "stdout"
        }
      ]
    },
    {
      "cell_type": "code",
      "metadata": {
        "id": "5K08WEW-HUl4"
      },
      "source": [
        "import random\n",
        "random.shuffle(training_data)\n",
        "\n",
        "x_train = []\n",
        "y_train = []\n",
        "\n",
        "for features, label in training_data:\n",
        "    x_train.append(features)\n",
        "    y_train.append(label)\n",
        "    \n",
        "    \n",
        "x_train = np.array(x_train).reshape(-1, 48, 48, 1)\n",
        "y_train = np.array(y_train).reshape(-1)\n",
        "\n",
        "x_train = x_train/255\n",
        "x_train = x_train.reshape(-1, 48, 48, 1) * 2. - 1.\n",
        "\n",
        "#y_train = tensorflow.keras.utils.to_categorical(y_train)"
      ],
      "execution_count": 4,
      "outputs": []
    },
    {
      "cell_type": "code",
      "metadata": {
        "id": "C_WLpt4MHUl6",
        "colab": {
          "base_uri": "https://localhost:8080/",
          "height": 176
        },
        "outputId": "ed5863ee-51fb-495a-e171-563531942a6c"
      },
      "source": [
        "print(y_train[111])\n",
        "plt.figure(figsize = (8,2))\n",
        "plt.imshow(x_train[111].reshape(48,48), cmap='gray')\n",
        "plt.show()"
      ],
      "execution_count": 5,
      "outputs": [
        {
          "output_type": "stream",
          "text": [
            "2\n"
          ],
          "name": "stdout"
        },
        {
          "output_type": "display_data",
          "data": {
            "image/png": "[encoded data removed]",
            "text/plain": [
              "<Figure size 576x144 with 1 Axes>"
            ]
          },
          "metadata": {
            "tags": [],
            "needs_background": "light"
          }
        }
      ]
    },
    {
      "cell_type": "code",
      "metadata": {
        "id": "3KPMRzH_HUl8"
      },
      "source": [
        "input_shape = (48,48,1)\n",
        "classes = 3\n",
        "latent_dim = 100\n",
        "\n",
        "def build_discriminator():\n",
        "    init = RandomNormal(mean=0.0, stddev=0.02)\n",
        "    input_label = Input(shape=(1,))\n",
        "    emb = Embedding(classes,40)(input_label)\n",
        "    upsample = Dense(48*48*1)(emb)\n",
        "    upsample = Reshape((48,48,1))(upsample)\n",
        "    input_image = Input(shape=(48,48,1))\n",
        "    concat = Concatenate()([input_image, upsample])\n",
        "\n",
        "    h = Conv2D(64, kernel_size = (3,3), strides=2, padding='same', kernel_initializer=init)(concat)\n",
        "    h = LeakyReLU(alpha=0.2)(h)\n",
        "    h = Dropout(0.4)(h)\n",
        "\n",
        "    h = Conv2D(64, kernel_size = (3,3), padding='same', kernel_initializer=init)(h)\n",
        "    h = LeakyReLU(alpha=0.2)(h)\n",
        "    h = Dropout(0.4)(h)\n",
        "    \n",
        "    h0 = Conv2D(128, kernel_size = (3,3), strides=2, padding='same', kernel_initializer=init)(h)\n",
        "    h0 = LeakyReLU(alpha=0.2)(h0)\n",
        "    h0 = Dropout(0.4)(h0)\n",
        "    \n",
        "    h1 = Conv2D(128, kernel_size = (3,3), padding='same', kernel_initializer=init)(h0)\n",
        "    h1 = LeakyReLU(alpha=0.2)(h1)\n",
        "    h1 = Dropout(0.4)(h1)\n",
        "    \n",
        "    h2 = Conv2D(256, kernel_size = (3,3), strides=2, padding='same', kernel_initializer=init)(h1)\n",
        "    h2 = LeakyReLU(alpha=0.2)(h2)\n",
        "    h2 = Dropout(0.4)(h2)\n",
        "    \n",
        "    flat = Flatten()(h2)\n",
        "    output = Dense(1, activation='linear')(flat)\n",
        "    \n",
        "    opt = Adam(lr=0.0002, beta_1=0.5)\n",
        "    discriminator = Model(inputs=[input_image, input_label], outputs=output)\n",
        "\n",
        "    discriminator.compile(loss='mse', optimizer=opt, metrics=['accuracy'])    \n",
        "    return discriminator"
      ],
      "execution_count": 6,
      "outputs": []
    },
    {
      "cell_type": "code",
      "metadata": {
        "id": "-Ookg1IlHUmA"
      },
      "source": [
        "def build_generator():\n",
        "    init = RandomNormal(mean=0.0, stddev=0.02)\n",
        "    \n",
        "    input_label = Input(shape=(1,))\n",
        "    emb = Embedding(classes, 40)(input_label)\n",
        "    emb = Dense(6*6*1)(emb)\n",
        "    emb = Reshape((6, 6, 1))(emb)\n",
        "    input_latent = Input(shape=(latent_dim,)) \n",
        "    gen = Dense(256*6*6)(input_latent)\n",
        "    gen = LeakyReLU(alpha=0.2)(gen)\n",
        "    gen = Reshape((6,6, 256))(gen)\n",
        "    merge = Concatenate()([gen, emb])\n",
        "    \n",
        "    gen = Conv2DTranspose(256, (4,4), strides=(2,2), padding='same', kernel_initializer = init)(merge)\n",
        "    gen = BatchNormalization(momentum=0.8)(gen)\n",
        "    gen = LeakyReLU(alpha=0.2)(gen)\n",
        "    \n",
        "    gen = Conv2DTranspose(128, (4,4), strides=(2,2), padding='same', kernel_initializer = init)(gen)\n",
        "    gen = BatchNormalization(momentum=0.8)(gen)\n",
        "    gen = LeakyReLU(alpha=0.2)(gen)\n",
        "    \n",
        "    output = Conv2DTranspose(1, (4,4), strides=(2,2), padding='same', activation='tanh', kernel_initializer = init)(gen)\n",
        "    \n",
        "    model = Model([input_latent, input_label], output)\n",
        "    return model"
      ],
      "execution_count": 7,
      "outputs": []
    },
    {
      "cell_type": "code",
      "metadata": {
        "id": "EdUiLGA0HUmC"
      },
      "source": [
        "def build_gan(generator, discriminator):\n",
        "    discriminator.trainable = False\n",
        "    generator_latent, generator_label = generator.input\n",
        "    generator_output = generator.output\n",
        "    gan_output = discriminator([generator_output, generator_label])\n",
        "\n",
        "    gan = Model([generator_latent, generator_label], gan_output)\n",
        "    opt = Adam(lr=0.0002, beta_1=0.5)\n",
        "    gan.compile(loss='mse', optimizer=opt)\n",
        "    return gan"
      ],
      "execution_count": 8,
      "outputs": []
    },
    {
      "cell_type": "code",
      "metadata": {
        "colab": {
          "base_uri": "https://localhost:8080/"
        },
        "id": "oQo-OoojJlU_",
        "outputId": "e935b84f-d7e3-4cf9-c0e3-12ee2b3a6260"
      },
      "source": [
        "discriminator = build_discriminator()\n",
        "generator = build_generator()\n",
        "gan = build_gan(generator, discriminator)\n",
        "\n",
        "plot_model(gan)\n",
        "\n",
        "generator.summary()"
      ],
      "execution_count": 9,
      "outputs": [
        {
          "output_type": "stream",
          "text": [
            "Model: \"model_1\"\n",
            "__________________________________________________________________________________________________\n",
            "Layer (type)                    Output Shape         Param #     Connected to                     \n",
            "==================================================================================================\n",
            "input_4 (InputLayer)            [(None, 100)]        0                                            \n",
            "__________________________________________________________________________________________________\n",
            "input_3 (InputLayer)            [(None, 1)]          0                                            \n",
            "__________________________________________________________________________________________________\n",
            "dense_3 (Dense)                 (None, 9216)         930816      input_4[0][0]                    \n",
            "__________________________________________________________________________________________________\n",
            "embedding_1 (Embedding)         (None, 1, 40)        120         input_3[0][0]                    \n",
            "__________________________________________________________________________________________________\n",
            "leaky_re_lu_5 (LeakyReLU)       (None, 9216)         0           dense_3[0][0]                    \n",
            "__________________________________________________________________________________________________\n",
            "dense_2 (Dense)                 (None, 1, 36)        1476        embedding_1[0][0]                \n",
            "__________________________________________________________________________________________________\n",
            "reshape_2 (Reshape)             (None, 6, 6, 256)    0           leaky_re_lu_5[0][0]              \n",
            "__________________________________________________________________________________________________\n",
            "reshape_1 (Reshape)             (None, 6, 6, 1)      0           dense_2[0][0]                    \n",
            "__________________________________________________________________________________________________\n",
            "concatenate_1 (Concatenate)     (None, 6, 6, 257)    0           reshape_2[0][0]                  \n",
            "                                                                 reshape_1[0][0]                  \n",
            "__________________________________________________________________________________________________\n",
            "conv2d_transpose (Conv2DTranspo (None, 12, 12, 256)  1052928     concatenate_1[0][0]              \n",
            "__________________________________________________________________________________________________\n",
            "batch_normalization (BatchNorma (None, 12, 12, 256)  1024        conv2d_transpose[0][0]           \n",
            "__________________________________________________________________________________________________\n",
            "leaky_re_lu_6 (LeakyReLU)       (None, 12, 12, 256)  0           batch_normalization[0][0]        \n",
            "__________________________________________________________________________________________________\n",
            "conv2d_transpose_1 (Conv2DTrans (None, 24, 24, 128)  524416      leaky_re_lu_6[0][0]              \n",
            "__________________________________________________________________________________________________\n",
            "batch_normalization_1 (BatchNor (None, 24, 24, 128)  512         conv2d_transpose_1[0][0]         \n",
            "__________________________________________________________________________________________________\n",
            "leaky_re_lu_7 (LeakyReLU)       (None, 24, 24, 128)  0           batch_normalization_1[0][0]      \n",
            "__________________________________________________________________________________________________\n",
            "conv2d_transpose_2 (Conv2DTrans (None, 48, 48, 1)    2049        leaky_re_lu_7[0][0]              \n",
            "==================================================================================================\n",
            "Total params: 2,513,341\n",
            "Trainable params: 2,512,573\n",
            "Non-trainable params: 768\n",
            "__________________________________________________________________________________________________\n"
          ],
          "name": "stdout"
        }
      ]
    },
    {
      "cell_type": "code",
      "metadata": {
        "id": "UZ-0m9NiHUmH"
      },
      "source": [
        "def plot_loss_history(d1, d2, g):\n",
        "    fig = plt.figure(figsize=(10,6))\n",
        "    # plt.style.use('seaborn-whitegrid')\n",
        "    plt.xlabel('Epochs')\n",
        "    plt.ylabel('Loss')\n",
        "    plt.plot(d1, 'r', label='d_loss_real')\n",
        "    plt.plot(d2, 'c', label='d_loss_fake')\n",
        "    plt.plot(g, 'y', label='g_loss')\n",
        "    plt.legend(loc='lower left', bbox_to_anchor=(0.82, 0.8), fancybox=True, shadow=True, ncol=1)\n",
        "    plt.savefig('/content/lsgan_logs/lsgan_loss_history.png')\n",
        "    plt.close()\n",
        "    \n",
        "def plot_acc_history(a1, a2):\n",
        "    fig = plt.figure(figsize=(10,6))\n",
        "    # plt.style.use('seaborn-whitegrid')\n",
        "    plt.xlabel('Epochs')\n",
        "    plt.ylabel('Accuracy')\n",
        "    plt.plot(a1, 'r', label='acc_real')     \n",
        "    plt.plot(a2, 'c', label='acc_fake')\n",
        "    plt.legend(loc='lower left', bbox_to_anchor=(0.82, 0.04), fancybox=True, shadow=False, ncol=1)\n",
        "    plt.savefig('/content/lsgan_logs/lsgan_acc_history.png')\n",
        "    plt.close()\n",
        "    \n",
        "def plot_total_loss(d, g):\n",
        "    fig = plt.figure(figsize=(10,6))\n",
        "    # plt.style.use('seaborn-whitegrid')\n",
        "    plt.xlabel('Epochs')\n",
        "    plt.ylabel('Loss')\n",
        "    plt.plot(d, 'r', label='d_loss')\n",
        "    plt.plot(g, 'y', label='g_loss')\n",
        "    plt.legend(loc='lower left', bbox_to_anchor=(0.82, 0.8), fancybox=True, shadow=True, ncol=1)\n",
        "    plt.savefig('/content/lsgan_logs/lsgan_total_loss.png')\n",
        "    plt.close()"
      ],
      "execution_count": 11,
      "outputs": []
    },
    {
      "cell_type": "code",
      "metadata": {
        "id": "RU6-Q-k1HUmP"
      },
      "source": [
        "epochs=10000\n",
        "batch_size=64\n",
        "\n",
        "d = list()\n",
        "d1 = list()\n",
        "d2 = list()\n",
        "g  = list() \n",
        "a1 = list() \n",
        "a2 = list()\n",
        "da = list()\n",
        "ga = list()   \n",
        "\n",
        "def generate_latent_variables(latent_dim, samples, classes=3):\n",
        "    x = np.random.randn(latent_dim * samples)\n",
        "    z = x.reshape(samples, latent_dim)\n",
        "    label = np.random.randint(0, classes, samples)\n",
        "    return [z, label]\n",
        " \n",
        "def fake_samples(generator, latent_dim, samples):\n",
        "    z, label = generate_latent_variables(latent_dim, samples)\n",
        "    images = generator.predict([z, label])\n",
        "    y = np.zeros((samples, 1))\n",
        "    return [images, label], y\n",
        "\n",
        "def real_samples(x_train, samples):\n",
        "    random_samples = np.random.randint(0, x_train.shape[0], samples)\n",
        "    x, label = x_train[random_samples], y_train[random_samples]\n",
        "    y = np.ones((samples, 1))\n",
        "    return [x, label], y\n",
        "\n",
        "\n",
        "for i in range(epochs):\n",
        "    for j in range(58):\n",
        "                \n",
        "        [x_real, real_labels], y_real = real_samples(x_train, batch_size//2)\n",
        "        d_loss_real, d_acc_real = discriminator.train_on_batch([x_real, real_labels], y_real)\n",
        "            \n",
        "        [x_fake, fake_labels], y_fake = fake_samples(generator, latent_dim, batch_size//2)\n",
        "        d_loss_fake, d_acc_fake = discriminator.train_on_batch([x_fake, fake_labels], y_fake)\n",
        "        \n",
        "        d_loss = 0.5 * np.add(d_loss_real, d_loss_fake)\n",
        "        d_acc = 0.5 * np.add(d_acc_real, d_acc_fake)\n",
        "            \n",
        "        [z, labels] = generate_latent_variables(latent_dim, batch_size)\n",
        "        y_gan = np.ones((batch_size, 1))\n",
        "                    \n",
        "        g_loss = gan.train_on_batch([z, labels], y_gan)\n",
        "        \n",
        "    d.append(d_loss)\n",
        "    d1.append(d_loss_real)\n",
        "    d2.append(d_loss_fake)\n",
        "    g.append(g_loss)\n",
        "    a1.append(d_acc_real*100)\n",
        "    a2.append(d_acc_fake*100)\n",
        "    da.append(d_acc*100)\n",
        "    \n",
        "    if (i%200 == 0):\n",
        "        generator.save(f'/content/lsgan_logs/lsgan-particles-{i}.h5')\n",
        "        plot_loss_history(d1, d2, g)\n",
        "        plot_acc_history(a1, a2)\n",
        "        plot_total_loss(d, g)\n",
        "            \n",
        "    print(f'Epoch: {i+1} --  D_loss_r: {d_loss_real} -- D_loss_f: {d_loss_fake} -- G_loss: {g_loss}')  "
      ],
      "execution_count": null,
      "outputs": []
    },
    {
      "cell_type": "code",
      "metadata": {
        "id": "2YZ04LxAHUmR"
      },
      "source": [
        "x = np.random.randn(latent_dim * 10)\n",
        "x = x.reshape(10, latent_dim)\n",
        "labels = np.asarray([x for _ in range(10) for x in range(0,1)])\n",
        "\n",
        "images  = generator.predict([x, labels])\n",
        "images = (images+1)/2 * 255"
      ],
      "execution_count": 23,
      "outputs": []
    },
    {
      "cell_type": "code",
      "metadata": {
        "id": "_DwHXkM7HUmT",
        "colab": {
          "base_uri": "https://localhost:8080/"
        },
        "outputId": "e92a7542-acaa-4a68-f061-5c331e58e2c8"
      },
      "source": [
        "images.shape"
      ],
      "execution_count": 24,
      "outputs": [
        {
          "output_type": "execute_result",
          "data": {
            "text/plain": [
              "(10, 48, 48, 1)"
            ]
          },
          "metadata": {
            "tags": []
          },
          "execution_count": 24
        }
      ]
    },
    {
      "cell_type": "code",
      "metadata": {
        "scrolled": true,
        "id": "9lTor2_AHUmV"
      },
      "source": [
        "i=0\n",
        "for image in images:\n",
        "    plt.figure(figsize = (10,2))\n",
        "    i+=1\n",
        "    # plt.imshow(image.reshape(48,48), cmap='gray')\n",
        "    # plt.show()\n",
        "    img_name = f'generated-lsgan-{i}.png'\n",
        "    imageio.imwrite('/content/imgs/'+img_name, np.array(image))"
      ],
      "execution_count": null,
      "outputs": []
    }
  ]
}